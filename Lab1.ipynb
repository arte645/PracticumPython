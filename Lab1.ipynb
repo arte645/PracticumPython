{
 "cells": [
  {
   "cell_type": "code",
   "execution_count": 92,
   "id": "10c30cc1-79d0-4d3c-b63f-ca43dfdf4be4",
   "metadata": {},
   "outputs": [],
   "source": [
    "import random\n",
    "import numpy as np"
   ]
  },
  {
   "cell_type": "code",
   "execution_count": 93,
   "id": "92ad9bba-e0a6-4010-9772-6e7de5394406",
   "metadata": {},
   "outputs": [],
   "source": [
    "def mod(num, temp):\n",
    "  if temp == 0:\n",
    "    return str(int(num))\n",
    "  if temp == 1:\n",
    "    return f'{num:<+10.5f}'\n",
    "  if temp == 2:\n",
    "    return f'{num:.5e}'"
   ]
  },
  {
   "cell_type": "code",
   "execution_count": 94,
   "id": "2bff3f44-3a8e-4e12-a03a-d927ebd9c687",
   "metadata": {},
   "outputs": [],
   "source": [
    "def print_matrix(matrix, temp):\n",
    "    for row in matrix:\n",
    "        for num in row:\n",
    "            print(f\"{mod(num,temp)}\\t\",end=\"\")\n",
    "        print(\"\\n\")"
   ]
  },
  {
   "cell_type": "code",
   "execution_count": 95,
   "id": "d5a30114-ff21-44a8-a1f7-17951ef64e7b",
   "metadata": {},
   "outputs": [
    {
     "name": "stdout",
     "output_type": "stream",
     "text": [
      "Задание 1:\n",
      "10 12 14 16 18 20 22 24 26 28 30 32 34 36 38 40 42 44 46 48 50 52 54 56 58 60 62 64 66 68\n"
     ]
    }
   ],
   "source": [
    "print('Задание 1:')\n",
    "my_array = np.arange(10, 70, 2)\n",
    "print(*my_array)\n"
   ]
  },
  {
   "cell_type": "code",
   "execution_count": 96,
   "id": "932bb30b-4fcd-4111-8ee6-6c8843e48b4f",
   "metadata": {},
   "outputs": [
    {
     "name": "stdout",
     "output_type": "stream",
     "text": [
      "Задание 2:\n",
      "10\t12\t14\t16\t18\t\n",
      "\n",
      "20\t22\t24\t26\t28\t\n",
      "\n",
      "30\t32\t34\t36\t38\t\n",
      "\n",
      "40\t42\t44\t46\t48\t\n",
      "\n",
      "50\t52\t54\t56\t58\t\n",
      "\n",
      "60\t62\t64\t66\t68\t\n",
      "\n",
      "10\t20\t30\t40\t50\t60\t\n",
      "\n",
      "12\t22\t32\t42\t52\t62\t\n",
      "\n",
      "14\t24\t34\t44\t54\t64\t\n",
      "\n",
      "16\t26\t36\t46\t56\t66\t\n",
      "\n",
      "18\t28\t38\t48\t58\t68\t\n",
      "\n"
     ]
    }
   ],
   "source": [
    "print('Задание 2:')\n",
    "my_array = my_array.reshape(6,5)\n",
    "print_matrix(my_array, 0)\n",
    "my_array = my_array.transpose()\n",
    "print_matrix(my_array, 0)"
   ]
  },
  {
   "cell_type": "code",
   "execution_count": 97,
   "id": "2b79042d-a746-4d4f-bb12-fca72ddd4a52",
   "metadata": {},
   "outputs": [
    {
     "name": "stdout",
     "output_type": "stream",
     "text": [
      "Задание 3:\n",
      "20\t45\t70\t95\t120\t145\t\n",
      "\n",
      "25\t50\t75\t100\t125\t150\t\n",
      "\n",
      "30\t55\t80\t105\t130\t155\t\n",
      "\n",
      "35\t60\t85\t110\t135\t160\t\n",
      "\n",
      "40\t65\t90\t115\t140\t165\t\n",
      "\n"
     ]
    }
   ],
   "source": [
    "print('Задание 3:')\n",
    "my_array = my_array*2.5 - 5\n",
    "print_matrix(my_array, 0)\n"
   ]
  },
  {
   "cell_type": "code",
   "execution_count": 98,
   "id": "7906a2e9-90ad-439b-98e9-cb531f382dc8",
   "metadata": {},
   "outputs": [
    {
     "name": "stdout",
     "output_type": "stream",
     "text": [
      "Задание 4:\n",
      "+1.33731  \t+5.27196  \t+2.26035  \t\n",
      "\n",
      "+2.02750  \t+7.59010  \t+1.40909  \t\n",
      "\n",
      "+3.36898  \t+0.27020  \t+7.45055  \t\n",
      "\n",
      "+2.14901  \t+5.02295  \t+8.35600  \t\n",
      "\n",
      "+3.31130  \t+4.84121  \t+5.08198  \t\n",
      "\n",
      "+3.66382  \t+5.95591  \t+3.84841  \t\n",
      "\n"
     ]
    }
   ],
   "source": [
    "print('Задание 4:')\n",
    "B = np.random.uniform(0, 10, (6, 3))\n",
    "print_matrix(B, 1)"
   ]
  },
  {
   "cell_type": "code",
   "execution_count": 99,
   "id": "e7f42d64-8786-4364-ac3f-368ab0d11ea4",
   "metadata": {},
   "outputs": [
    {
     "name": "stdout",
     "output_type": "stream",
     "text": [
      "Задание 5:\n",
      "5\n",
      "3\n"
     ]
    }
   ],
   "source": [
    "print('Задание 5:')\n",
    "a = np.sum(my_array, axis=1)\n",
    "b = np.sum(B, axis=0)\n",
    "print(len(a))\n",
    "print(len(b))"
   ]
  },
  {
   "cell_type": "code",
   "execution_count": 100,
   "id": "0e35bb25-3eae-4f70-99b6-c12185ecacb6",
   "metadata": {},
   "outputs": [
    {
     "name": "stdout",
     "output_type": "stream",
     "text": [
      "Задание 6:\n",
      "+1486.57826\t+2387.64128\t+2591.83164\t\n",
      "\n",
      "+1565.86786\t+2532.40300\t+2733.86354\t\n",
      "\n",
      "+1645.15745\t+2677.16473\t+2875.89544\t\n",
      "\n",
      "+1724.44704\t+2821.92645\t+3017.92734\t\n",
      "\n",
      "+1803.73664\t+2966.68817\t+3159.95924\t\n",
      "\n"
     ]
    }
   ],
   "source": [
    "print('Задание 6:')\n",
    "mult = np.dot(my_array, B)\n",
    "print_matrix(mult, 1)"
   ]
  },
  {
   "cell_type": "code",
   "execution_count": 101,
   "id": "8590bdd1-c4e1-4a67-8674-87d18687f8a9",
   "metadata": {},
   "outputs": [
    {
     "name": "stdout",
     "output_type": "stream",
     "text": [
      "Задание 7:\n",
      "20\t45\t70\t120\t145\t\n",
      "\n",
      "25\t50\t75\t125\t150\t\n",
      "\n",
      "30\t55\t80\t130\t155\t\n",
      "\n",
      "35\t60\t85\t135\t160\t\n",
      "\n",
      "40\t65\t90\t140\t165\t\n",
      "\n",
      "1\t5\t2\t10\t17\t15\t\n",
      "\n",
      "2\t7\t1\t18\t14\t17\t\n",
      "\n",
      "3\t0\t7\t10\t17\t16\t\n",
      "\n",
      "2\t5\t8\t14\t17\t10\t\n",
      "\n",
      "3\t4\t5\t16\t10\t12\t\n",
      "\n",
      "3\t5\t3\t14\t16\t11\t\n",
      "\n"
     ]
    }
   ],
   "source": [
    "print('Задание 7:')\n",
    "A = np.delete(my_array, 3, axis=1)\n",
    "for i in range(3):\n",
    "    B = np.append(B, np.random.choice(range(10, 20), (6, 1)), axis = 1)\n",
    "print_matrix(A, 0)\n",
    "print_matrix(B, 0)"
   ]
  },
  {
   "cell_type": "code",
   "execution_count": 102,
   "id": "df444a01-bbd3-47de-8209-1bdc06c873d4",
   "metadata": {},
   "outputs": [
    {
     "name": "stdout",
     "output_type": "stream",
     "text": [
      "Задание 8:\n",
      "Определитель матрицы A равен нулю\n",
      "detB = -26640.068075437004\n",
      "+0.26895  \t-0.48269  \t-0.07554  \t-0.34255  \t+0.47153  \t+0.28610  \t\n",
      "\n",
      "+0.70781  \t-0.60440  \t-0.37416  \t-0.11222  \t+0.69015  \t-0.13776  \t\n",
      "\n",
      "+0.33492  \t-0.36226  \t-0.13097  \t+0.04513  \t+0.42990  \t-0.21635  \t\n",
      "\n",
      "-0.45143  \t+0.40966  \t+0.14378  \t+0.11930  \t-0.37944  \t+0.07882  \t\n",
      "\n",
      "-0.18633  \t+0.17569  \t+0.08858  \t+0.07342  \t-0.31690  \t+0.13268  \t\n",
      "\n",
      "+0.25557  \t-0.16218  \t-0.03827  \t-0.09957  \t+0.26273  \t-0.14740  \t\n",
      "\n"
     ]
    }
   ],
   "source": [
    "print('Задание 8:')\n",
    "detA = np.linalg.det(A)\n",
    "detB = np.linalg.det(B)\n",
    "if(detA!=0):\n",
    "    inverseA = np.linalg.inv(A)\n",
    "    print(f\"detA = {detA}\")\n",
    "    print_matrix(inverseA, 1)\n",
    "else:\n",
    "    print(\"Определитель матрицы A равен нулю\")\n",
    "if(detB!=0):\n",
    "    inverseB = np.linalg.inv(B)\n",
    "    print(f\"detB = {detB}\")\n",
    "    print_matrix(inverseB, 1)\n",
    "else:\n",
    "    print(\"Определитель матрицы В равен нулю\")"
   ]
  },
  {
   "cell_type": "code",
   "execution_count": 103,
   "id": "fd3ac4cb-5cab-457b-a111-e04e16a88867",
   "metadata": {},
   "outputs": [
    {
     "name": "stdout",
     "output_type": "stream",
     "text": [
      "Задание 9:\n",
      "Матрица А:\n",
      "6.42858e+14\t1.12294e+15\t1.60301e+15\t2.56317e+15\t3.04324e+15\t\n",
      "\n",
      "6.81363e+14\t1.19020e+15\t1.69903e+15\t2.71669e+15\t3.22552e+15\t\n",
      "\n",
      "7.19868e+14\t1.25746e+15\t1.79504e+15\t2.87022e+15\t3.40781e+15\t\n",
      "\n",
      "7.58373e+14\t1.32472e+15\t1.89106e+15\t3.02374e+15\t3.59009e+15\t\n",
      "\n",
      "7.96879e+14\t1.39198e+15\t1.98707e+15\t3.17727e+15\t3.77237e+15\t\n",
      "\n",
      "Матрица В:\n",
      "9.83564e+22\t1.69918e+23\t1.85608e+23\t4.89798e+23\t5.01037e+23\t4.20184e+23\t\n",
      "\n",
      "1.17420e+23\t2.02851e+23\t2.21583e+23\t5.84731e+23\t5.98148e+23\t5.01624e+23\t\n",
      "\n",
      "1.02998e+23\t1.77936e+23\t1.94367e+23\t5.12912e+23\t5.24681e+23\t4.40012e+23\t\n",
      "\n",
      "1.09155e+23\t1.88573e+23\t2.05986e+23\t5.43574e+23\t5.56047e+23\t4.66316e+23\t\n",
      "\n",
      "9.97272e+22\t1.72286e+23\t1.88195e+23\t4.96624e+23\t5.08020e+23\t4.26040e+23\t\n",
      "\n",
      "1.05480e+23\t1.82225e+23\t1.99052e+23\t5.25274e+23\t5.37327e+23\t4.50617e+23\t\n",
      "\n"
     ]
    }
   ],
   "source": [
    "print('Задание 9:')\n",
    "A = np.linalg.matrix_power(A, 6)\n",
    "B = np.linalg.matrix_power(B, 14)\n",
    "print(\"Матрица А:\")\n",
    "print_matrix(A, 2)\n",
    "print(\"Матрица В:\")\n",
    "print_matrix(B, 2)"
   ]
  },
  {
   "cell_type": "code",
   "execution_count": 104,
   "id": "bb657f2d-595f-4c92-be3a-e22235ec52ed",
   "metadata": {},
   "outputs": [
    {
     "name": "stdout",
     "output_type": "stream",
     "text": [
      "Задание 10:\n",
      "1.5643974740735995 2.132900832040379 -0.6544622935567708 1.5788237784716863\n"
     ]
    }
   ],
   "source": [
    "print('Задание 10:')\n",
    "A = np.array([[3, -1.2, -8, 8],\n",
    "              [21, -19, 0.5, 0],\n",
    "              [7, 0, -4.9, -2],\n",
    "              [1, -2, 13, 9]])\n",
    "b = np.array([20,\n",
    "              -8,\n",
    "              11,\n",
    "              3])\n",
    "x =np.linalg.solve(A, b)\n",
    "print(*x)"
   ]
  }
 ],
 "metadata": {
  "kernelspec": {
   "display_name": "Python 3 (ipykernel)",
   "language": "python",
   "name": "python3"
  },
  "language_info": {
   "codemirror_mode": {
    "name": "ipython",
    "version": 3
   },
   "file_extension": ".py",
   "mimetype": "text/x-python",
   "name": "python",
   "nbconvert_exporter": "python",
   "pygments_lexer": "ipython3",
   "version": "3.9.13"
  }
 },
 "nbformat": 4,
 "nbformat_minor": 5
}
