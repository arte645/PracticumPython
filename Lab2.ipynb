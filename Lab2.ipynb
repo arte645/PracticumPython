{
 "cells": [
  {
   "cell_type": "code",
   "execution_count": 11,
   "id": "70067508-58db-43f7-b238-455d65389bd4",
   "metadata": {},
   "outputs": [],
   "source": [
    "import math\n",
    "import scipy\n",
    "from scipy.optimize import minimize, LinearConstraint\n",
    "from sympy import *\n",
    "import sympy\n",
    "import numpy as np"
   ]
  },
  {
   "cell_type": "code",
   "execution_count": 12,
   "id": "9a494f09-66cc-4159-bca5-a1cedc7eca2c",
   "metadata": {},
   "outputs": [
    {
     "name": "stdout",
     "output_type": "stream",
     "text": [
      "Задание 1\n",
      "-0.3228145617436734\n",
      "-0.2902916071050012\n"
     ]
    },
    {
     "name": "stderr",
     "output_type": "stream",
     "text": [
      "C:\\Users\\1\\AppData\\Local\\Temp\\ipykernel_34060\\1681269298.py:5: DeprecationWarning: scipy.misc.derivative is deprecated in SciPy v1.10.0; and will be completely removed in SciPy v1.12.0. You may consider using findiff: https://github.com/maroba/findiff or numdifftools: https://github.com/pbrod/numdifftools\n",
      "  print(scipy.misc.derivative(f, 3.5, 1))\n",
      "C:\\Users\\1\\AppData\\Local\\Temp\\ipykernel_34060\\1681269298.py:6: DeprecationWarning: scipy.misc.derivative is deprecated in SciPy v1.10.0; and will be completely removed in SciPy v1.12.0. You may consider using findiff: https://github.com/maroba/findiff or numdifftools: https://github.com/pbrod/numdifftools\n",
      "  print(scipy.misc.derivative(f, 3.5, 2))\n"
     ]
    }
   ],
   "source": [
    "print(\"Задание 1\")\n",
    "f = lambda x: math.sin(math.sqrt(2*x))\n",
    "a = 0\n",
    "b = 1\n",
    "print(scipy.misc.derivative(f, 3.5, 1))\n",
    "print(scipy.misc.derivative(f, 3.5, 2))"
   ]
  },
  {
   "cell_type": "code",
   "execution_count": 13,
   "id": "c6815f2e-5f10-4577-8795-b92d1a963a86",
   "metadata": {},
   "outputs": [
    {
     "name": "stdout",
     "output_type": "stream",
     "text": [
      "Задание 2\n",
      "sqrt(2)*cos(sqrt(2)*sqrt(x))/(2*sqrt(x))\n"
     ]
    }
   ],
   "source": [
    "print(\"Задание 2\")\n",
    "x = sympy.Symbol('x')\n",
    "print(sympy.diff(sympy.sin(sympy.sqrt(2*x)), x))"
   ]
  },
  {
   "cell_type": "code",
   "execution_count": 14,
   "id": "953b7daa-0878-48b8-91c4-6130a45f9e93",
   "metadata": {},
   "outputs": [
    {
     "name": "stdout",
     "output_type": "stream",
     "text": [
      "Задание 3\n",
      "(0.7672282578889725, 1.175547437171076e-10)\n"
     ]
    }
   ],
   "source": [
    "print(\"Задание 3\")\n",
    "print(scipy.integrate.quad(f, a, b))"
   ]
  },
  {
   "cell_type": "code",
   "execution_count": 15,
   "id": "aac750b8-7c21-4ee4-8c6b-43749bea2708",
   "metadata": {},
   "outputs": [
    {
     "name": "stdout",
     "output_type": "stream",
     "text": [
      "Задание 4\n",
      "-sqrt(2)*sqrt(x)*cos(sqrt(2)*sqrt(x)) + sin(sqrt(2)*sqrt(x))\n"
     ]
    }
   ],
   "source": [
    "print(\"Задание 4\")\n",
    "print(sympy.integrate(sympy.sin(sympy.sqrt(2*x)), x))"
   ]
  },
  {
   "cell_type": "code",
   "execution_count": 16,
   "id": "e0d2f7ea-b9e0-45a6-a5b8-dc59c4f07e30",
   "metadata": {},
   "outputs": [
    {
     "name": "stdout",
     "output_type": "stream",
     "text": [
      "Задание 5\n",
      "          message: `xtol` termination condition is satisfied.\n",
      "          success: True\n",
      "           status: 2\n",
      "              fun: 9.992006824579719e-16\n",
      "                x: [-3.000e+00  3.000e+00]\n",
      "              nit: 14\n",
      "             nfev: 12\n",
      "             njev: 4\n",
      "             nhev: 0\n",
      "         cg_niter: 3\n",
      "     cg_stop_cond: 4\n",
      "             grad: [-4.441e-16  4.441e-16]\n",
      "  lagrangian_grad: [-4.441e-16        nan]\n",
      "           constr: [array([ 0.000e+00,        nan])]\n",
      "              jac: [array([[ 1.000e+00, -4.000e+00],\n",
      "                          [ 1.200e+01,       -inf]])]\n",
      "      constr_nfev: [0]\n",
      "      constr_njev: [0]\n",
      "      constr_nhev: [0]\n",
      "                v: [array([ 0.000e+00,  0.000e+00])]\n",
      "           method: equality_constrained_sqp\n",
      "       optimality: nan\n",
      " constr_violation: nan\n",
      "   execution_time: 0.008975028991699219\n",
      "        tr_radius: 2.2698485318102937e-09\n",
      "   constr_penalty: 1.0\n",
      "            niter: 14\n"
     ]
    }
   ],
   "source": [
    "print(\"Задание 5\")\n",
    "# Целевая функция\n",
    "f = lambda x: (x[0] + 3)**2 + (x[1] - 3)**2\n",
    "# Система ограничений\n",
    "constraints = LinearConstraint([[1,-4],[12, -np.inf]])\n",
    "# Начальное приближение\n",
    "x0 = [0, 0]\n",
    "\n",
    "x1, x2 = sympy.symbols('x1 x2')\n",
    "func = (x1 + 3)**2 + (x2 - 3)**2\n",
    "gradient = [func.diff(x1), func.diff(x2)]\n",
    "\n",
    "# Решение задачи оптимизации\n",
    "result = minimize(f, x0, method='trust-constr', jac=gradient, constraints=constraints)\n",
    "\n",
    "# Вывод оптимального результата\n",
    "print(result)"
   ]
  }
 ],
 "metadata": {
  "kernelspec": {
   "display_name": "Python 3 (ipykernel)",
   "language": "python",
   "name": "python3"
  },
  "language_info": {
   "codemirror_mode": {
    "name": "ipython",
    "version": 3
   },
   "file_extension": ".py",
   "mimetype": "text/x-python",
   "name": "python",
   "nbconvert_exporter": "python",
   "pygments_lexer": "ipython3",
   "version": "3.9.13"
  }
 },
 "nbformat": 4,
 "nbformat_minor": 5
}
