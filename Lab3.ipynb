{
 "cells": [
  {
   "cell_type": "code",
   "execution_count": 1,
   "id": "44286948-a0b1-4c88-a94c-c62efaf977df",
   "metadata": {},
   "outputs": [],
   "source": [
    "import random\n",
    "import numpy as np\n",
    "import scipy"
   ]
  },
  {
   "cell_type": "code",
   "execution_count": 2,
   "id": "a8d80ca4-3e3e-43a2-bfd2-759d37e973ef",
   "metadata": {},
   "outputs": [],
   "source": [
    "def mod(num, temp):\n",
    "  if temp == 0:\n",
    "    return str(int(num))\n",
    "  if temp == 1:\n",
    "    return f'{num:<+10.5f}'\n",
    "  if temp == 2:\n",
    "    return f'{num:.5e}'"
   ]
  },
  {
   "cell_type": "code",
   "execution_count": 3,
   "id": "de97bdbc-b880-4ce6-90f6-b11dc2c26559",
   "metadata": {},
   "outputs": [],
   "source": [
    "def print_matrix(matrix, temp):\n",
    "    for row in matrix:\n",
    "        for num in row:\n",
    "            print(f\"{mod(num,temp)}\\t\",end=\"\")\n",
    "        print(\"\\n\")"
   ]
  },
  {
   "cell_type": "code",
   "execution_count": 5,
   "id": "28f65349-8d18-41a9-9af4-3980db40c8ea",
   "metadata": {},
   "outputs": [
    {
     "name": "stdout",
     "output_type": "stream",
     "text": [
      "Задание 1:\n",
      "3\t-1\t-8\t8\t\n",
      "\n",
      "21\t-19\t0\t0\t\n",
      "\n",
      "7\t0\t-4\t-2\t\n",
      "\n",
      "1\t-2\t13\t9\t\n",
      "\n"
     ]
    }
   ],
   "source": [
    "print(\"Задание 1:\")\n",
    "A = np.array([[3, -1.2, -8, 8],\n",
    "              [21, -19, 0.5, 0],\n",
    "              [7, 0, -4.9, -2],\n",
    "              [1, -2, 13, 9]])\n",
    "\n",
    "print_matrix(A, 0)"
   ]
  },
  {
   "cell_type": "code",
   "execution_count": 7,
   "id": "3dcd5811-9888-4af8-bad8-8b8ca6a511ee",
   "metadata": {},
   "outputs": [
    {
     "name": "stdout",
     "output_type": "stream",
     "text": [
      "Задание 2:\n",
      "0\t0\t0\t1\t\n",
      "\n",
      "1\t0\t0\t0\t\n",
      "\n",
      "0\t1\t0\t0\t\n",
      "\n",
      "0\t0\t1\t0\t\n",
      "\n",
      "\n",
      "\n",
      "1\t0\t0\t0\t\n",
      "\n",
      "0\t1\t0\t0\t\n",
      "\n",
      "0\t0\t1\t0\t\n",
      "\n",
      "0\t0\t0\t1\t\n",
      "\n",
      "\n",
      "\n",
      "21\t-19\t0\t0\t\n",
      "\n",
      "0\t6\t-5\t-2\t\n",
      "\n",
      "0\t0\t12\t8\t\n",
      "\n",
      "0\t0\t0\t13\t\n",
      "\n"
     ]
    }
   ],
   "source": [
    "print(\"Задание 2:\")\n",
    "#матрицы поворота, нижняя треуг, верхняя треуг\n",
    "p_matrix, l_matrix, u_matrix = scipy.linalg.lu(A)\n",
    "print_matrix(p_matrix,0)\n",
    "print(\"\\n\")\n",
    "print_matrix(l_matrix,0)\n",
    "print(\"\\n\")\n",
    "print_matrix(u_matrix,0)"
   ]
  },
  {
   "cell_type": "code",
   "execution_count": 6,
   "id": "684caf1b-d302-462a-b1d8-fa525ece9e3f",
   "metadata": {},
   "outputs": [
    {
     "name": "stdout",
     "output_type": "stream",
     "text": [
      "Задание 3:\n",
      "-21539.819999999996\n",
      "\n",
      "-21539.82\n"
     ]
    }
   ],
   "source": [
    "print(\"Задание 3:\")\n",
    "print(scipy.linalg.det(A), end=\"\\n\\n\")\n",
    "inv_p_matrix = scipy.linalg.inv(p_matrix)\n",
    "print(scipy.linalg.det(inv_p_matrix)*scipy.linalg.det(l_matrix)*scipy.linalg.det(u_matrix))"
   ]
  },
  {
   "cell_type": "code",
   "execution_count": 7,
   "id": "cd12b4de-d2a4-4ec6-98c2-234fe6a58e2f",
   "metadata": {},
   "outputs": [
    {
     "name": "stdout",
     "output_type": "stream",
     "text": [
      "Задание 4:\n",
      "Равномерное распределение:  [1 8 0 7 7 0 2 6 8 6]\n",
      "Нормальное распределение:  [ -1  -3 -12  15 -12   0 -17  -6   3  -9]\n"
     ]
    }
   ],
   "source": [
    "print(\"Задание 4:\")\n",
    "uniform_vec = np.random.uniform(0, 10, size=100).astype(int)\n",
    "normal_vec = np.random.normal(0, 10, size=100).astype(int)\n",
    "print(\"Равномерное распределение: \", uniform_vec[:10])\n",
    "print(\"Нормальное распределение: \", normal_vec[:10])"
   ]
  },
  {
   "cell_type": "code",
   "execution_count": 8,
   "id": "c00c02b4-e166-48c6-88d0-c19e37be24d0",
   "metadata": {},
   "outputs": [
    {
     "name": "stdout",
     "output_type": "stream",
     "text": [
      "Задание 5:\n",
      "Равномерное распределение:\n",
      "Среднее:  4.29\n",
      "Мода:  7\n",
      "Медиана:  4.0\n",
      "Минимум:  0\n",
      "Максимум:  9\n",
      "Стандартное отклонение:  2.83\n",
      "\n",
      "Нормальное распр:\n",
      "Среднее:  -0.79\n",
      "Мода:  -7\n",
      "Медиана:  -1.0\n",
      "Минимум:  -22\n",
      "Максимум:  38\n",
      "Стандартное отклонение:  11.16\n"
     ]
    }
   ],
   "source": [
    "print(\"Задание 5:\")\n",
    "print(\"Равномерное распределение:\")\n",
    "\n",
    "print(\"Среднее: \", np.mean(uniform_vec))\n",
    "print(\"Мода: \", scipy.stats.mode(uniform_vec)[0])\n",
    "print(\"Медиана: \", np.median(uniform_vec))\n",
    "print(\"Минимум: \", np.min(uniform_vec))\n",
    "print(\"Максимум: \", np.max(uniform_vec))\n",
    "print(\"Стандартное отклонение: \", round(np.std(uniform_vec), 2), end=\"\\n\\n\")\n",
    "\n",
    "print(\"Нормальное распр:\")\n",
    "print(\"Среднее: \", np.mean(normal_vec))\n",
    "print(\"Мода: \", scipy.stats.mode(normal_vec)[0])\n",
    "print(\"Медиана: \", np.median(normal_vec))\n",
    "print(\"Минимум: \", np.min(normal_vec))\n",
    "print(\"Максимум: \", np.max(normal_vec))\n",
    "print(\"Стандартное отклонение: \", round(np.std(normal_vec), 2))"
   ]
  },
  {
   "cell_type": "code",
   "execution_count": 14,
   "id": "714eec0e-1779-48a5-8b47-34f54d2a7b03",
   "metadata": {},
   "outputs": [
    {
     "name": "stdout",
     "output_type": "stream",
     "text": [
      "Задание 6:\n",
      "2.744584645408769e-07\n"
     ]
    }
   ],
   "source": [
    "print(\"Задание 6:\")\n",
    "print(scipy.stats.chisquare(uniform_vec)[1])"
   ]
  },
  {
   "cell_type": "code",
   "execution_count": null,
   "id": "5d2661f8-397d-4f18-a5b0-c656a4d1b93d",
   "metadata": {},
   "outputs": [],
   "source": []
  }
 ],
 "metadata": {
  "kernelspec": {
   "display_name": "Python 3 (ipykernel)",
   "language": "python",
   "name": "python3"
  },
  "language_info": {
   "codemirror_mode": {
    "name": "ipython",
    "version": 3
   },
   "file_extension": ".py",
   "mimetype": "text/x-python",
   "name": "python",
   "nbconvert_exporter": "python",
   "pygments_lexer": "ipython3",
   "version": "3.9.13"
  }
 },
 "nbformat": 4,
 "nbformat_minor": 5
}
